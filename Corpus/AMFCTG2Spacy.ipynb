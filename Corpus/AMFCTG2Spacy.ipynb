{
 "cells": [
  {
   "cell_type": "markdown",
   "id": "e0fe4699-91a0-4abf-a285-0723f98ac6e2",
   "metadata": {},
   "source": [
    "Translation between the _Anotación morfosintáctica do Corpus Técnico do Galego_ (AMFCTG) (Xavier Gomez Guinovart, Susana López Fernández. _Anotación morfosintáctica do Corpus Técnico do Galego._ <b>Lingua</b>MÁTICA — ISSN: 1647–0818 Núm. 1 - Maio 2009 - Pág. 61–71)  and the [_Spacy_ POS annotation framework](https://machinelearningknowledge.ai/tutorial-on-spacy-part-of-speech-pos-tagging/)"
   ]
  },
  {
   "cell_type": "markdown",
   "id": "84b3826b-10b4-47b5-8b84-3825be7ce33d",
   "metadata": {},
   "source": [
    "# From AMFCTG to _Spacy_\n",
    "\n",
    "Only first level of POS tagging in _Spacy_\n",
    "\n",
    "AMFCTG is a single-character, position-based code. The first character corresponds to the first level or gross of the POS _Spacy_ labeling, the others carry the morphological and detailed information for the POS _Spacy_ labeling"
   ]
  },
  {
   "cell_type": "markdown",
   "id": "685dd09a-7345-468a-9841-f39b7fca2b1d",
   "metadata": {},
   "source": [
    "<center> <i>Table for  AMFCTG to Spacy translation</i> </center>\n",
    "\n",
    "1ºChar  |  2ºChar | Spacy |\n",
    "---- | ---- | ----\n",
    "N   |  C | NOUN\n",
    "N   | P  | PROPN\n",
    "A   |  - | ADJ\n",
    "V   | -  | VERB - AUX\n",
    "R   | -  | ADV\n",
    "M<br>Z   | -  | NUM\n",
    "G   | -  | DET\n",
    "P<br>X<br>D<br>T<br>Q<br>I   | -  | PRON\n",
    "S | - | ADP\n",
    "C | C | CCONJ\n",
    "C | S | SCONJ\n",
    "O | - | INTJ\n",
    "F | - | PUNCT\n",
    "Y<br>L | - | SYM\n",
    "U | - | X  \n",
    "\n",
    "Doubtful cases are foreign words (provisionally 'E' --> 'X'), contractions and enclisis, which in Spacy are treated as a single word, and POS is generally associated with the prepositional character (--> 'ADP') or the pronoun character (--> 'PRON').  \n",
    "Another dubious decision is to assign an 'AUX' label to a verb if it is followed by another verb in the pronominal form."
   ]
  },
  {
   "cell_type": "markdown",
   "id": "01907d3c-de01-433f-b705-24f4034a77c7",
   "metadata": {},
   "source": [
    "Another case are locutions, which in the AMFCTG are marked with the words joined by the symbol \"#\". Fortunately, there are only about 650 different idioms in the corpus, making it feasible to map them with a hand-made dictionary, `expand_loc`."
   ]
  },
  {
   "cell_type": "code",
   "execution_count": null,
   "id": "6e18728b-b00b-4b79-b8c0-eb860c53a102",
   "metadata": {},
   "outputs": [],
   "source": [
    "A2S={'N':{'C':'NOUN','P':'PROPN'},\n",
    "    'A':'ADJ',\n",
    "    'V':['VERB','AUX'],\n",
    "    'R':'ADV',\n",
    "    'M':'NUM',\n",
    "    'Z':'NUM',\n",
    "    'G':'DET',\n",
    "    'P':'PRON',\n",
    "    'X':'PRON',\n",
    "    'D':'PRON',\n",
    "    'T':'PRON',\n",
    "    'Q':'PRON',\n",
    "    'I':'PRON',\n",
    "    'S':'ADP',\n",
    "    'C':{'C':'CCONJ','S':'SCONJ'},\n",
    "    'O':'INTJ',\n",
    "    'F':'PUNCT',\n",
    "    'Y':'SYM',\n",
    "    'L':'SYM',\n",
    "    'U':'X',\n",
    "    'E':'PROPN' \n",
    "    }\n"
   ]
  },
  {
   "cell_type": "code",
   "execution_count": 7,
   "id": "c4b52033-f1ee-48ed-a25b-52ac9b58f4e5",
   "metadata": {},
   "outputs": [],
   "source": [
    "def process_file(path):\n",
    "    raw=(path).read_text(encoding='utf8').split('\\n')\n",
    "    raw=[item.split('\\t') for item in raw]\n",
    "    sents=[]\n",
    "    tmp=[]\n",
    "\n",
    "    for item in raw:\n",
    "        if not item[0]:\n",
    "            sents.append(tmp)\n",
    "            tmp=[]\n",
    "        else:\n",
    "            tmp.append(item)\n",
    "\n",
    "    flp=[]\n",
    "    num=0\n",
    "    \n",
    "    for s in sents:\n",
    "        tmp=[]\n",
    "        pmp=[]\n",
    "        lmp=[]\n",
    "\n",
    "        for t,p,l in s:\n",
    "            #There seems to be a systematic error with excavaciónkkkPOS_tag in the train file\n",
    "            if 'explanaciónkkk' in p:\n",
    "                l,p=p.split('kkk')\n",
    "            if '#' in t:\n",
    "                if not t in expand_loc.keys():\n",
    "                    print('locución inesperada',t)\n",
    "                    break\n",
    "                pmp+=expand_loc[t][0]\n",
    "                lmp+=expand_loc[t][1]\n",
    "                tmp+=t.strip('# ').split('#')\n",
    "\n",
    "            else:\n",
    "\n",
    "                tmp.append(t)\n",
    "                pmp.append(p)\n",
    "                lmp.append(l)\n",
    "        #reconstructing sentence; leave spaces around PUNT to ensure correct lemmatization\n",
    "        sent=' '.join(tmp)\n",
    "        \n",
    "        #working with POS\n",
    "        pos=[]\n",
    "        for i,p in enumerate(pmp):\n",
    "            \n",
    "            if not p:\n",
    "                pos.append('')\n",
    "            elif p in SpacyTags:\n",
    "                pos.append(p)\n",
    "            elif not p[0] in A2S.keys():\n",
    "                print(tmp[i],p,lmp[i])\n",
    "                print(sent)\n",
    "            elif p[0] in ['N','C']:\n",
    "                pos.append(A2S[p[0]][p[1]])\n",
    "            elif p[0] == 'V':\n",
    "                if i<len(pmp)-1 and pmp[i+1] and pmp[i+1][:2] in ['VN','VX','VP']:\n",
    "                    pos.append(A2S[p[0]][1])\n",
    "                else:\n",
    "                    pos.append(A2S[p[0]][0])\n",
    "            else:\n",
    "                pos.append(A2S[p[0]])\n",
    "\n",
    "        #building Spacy input\n",
    "        flp.append((sent,tuple([*zip(tmp,pos,lmp)])))\n",
    "    return flp"
   ]
  }
 ],
 "metadata": {
  "kernelspec": {
   "display_name": "Python 3 (ipykernel)",
   "language": "python",
   "name": "python3"
  },
  "language_info": {
   "codemirror_mode": {
    "name": "ipython",
    "version": 3
   },
   "file_extension": ".py",
   "mimetype": "text/x-python",
   "name": "python",
   "nbconvert_exporter": "python",
   "pygments_lexer": "ipython3",
   "version": "3.10.6"
  }
 },
 "nbformat": 4,
 "nbformat_minor": 5
}
